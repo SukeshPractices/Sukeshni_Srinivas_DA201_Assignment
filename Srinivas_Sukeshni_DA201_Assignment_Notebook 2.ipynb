{
 "cells": [
  {
   "cell_type": "code",
   "execution_count": 1,
   "id": "18640015",
   "metadata": {},
   "outputs": [],
   "source": [
    "import pandas as pd\n",
    "\n",
    "import numpy as np"
   ]
  },
  {
   "cell_type": "code",
   "execution_count": 2,
   "id": "f2461fe4",
   "metadata": {
    "scrolled": true
   },
   "outputs": [
    {
     "data": {
      "text/html": [
       "<div>\n",
       "<style scoped>\n",
       "    .dataframe tbody tr th:only-of-type {\n",
       "        vertical-align: middle;\n",
       "    }\n",
       "\n",
       "    .dataframe tbody tr th {\n",
       "        vertical-align: top;\n",
       "    }\n",
       "\n",
       "    .dataframe thead th {\n",
       "        text-align: right;\n",
       "    }\n",
       "</style>\n",
       "<table border=\"1\" class=\"dataframe\">\n",
       "  <thead>\n",
       "    <tr style=\"text-align: right;\">\n",
       "      <th></th>\n",
       "      <th>sub_icb_location_code</th>\n",
       "      <th>sub_icb_location_ons_code</th>\n",
       "      <th>sub_icb_location_name</th>\n",
       "      <th>icb_ons_code</th>\n",
       "      <th>region_ons_code</th>\n",
       "      <th>appointment_date</th>\n",
       "      <th>actual_duration</th>\n",
       "      <th>count_of_appointments</th>\n",
       "    </tr>\n",
       "  </thead>\n",
       "  <tbody>\n",
       "    <tr>\n",
       "      <th>0</th>\n",
       "      <td>00L</td>\n",
       "      <td>E38000130</td>\n",
       "      <td>NHS North East and North Cumbria ICB - 00L</td>\n",
       "      <td>E54000050</td>\n",
       "      <td>E40000012</td>\n",
       "      <td>01-Dec-21</td>\n",
       "      <td>31-60 Minutes</td>\n",
       "      <td>364</td>\n",
       "    </tr>\n",
       "    <tr>\n",
       "      <th>1</th>\n",
       "      <td>00L</td>\n",
       "      <td>E38000130</td>\n",
       "      <td>NHS North East and North Cumbria ICB - 00L</td>\n",
       "      <td>E54000050</td>\n",
       "      <td>E40000012</td>\n",
       "      <td>01-Dec-21</td>\n",
       "      <td>21-30 Minutes</td>\n",
       "      <td>619</td>\n",
       "    </tr>\n",
       "    <tr>\n",
       "      <th>2</th>\n",
       "      <td>00L</td>\n",
       "      <td>E38000130</td>\n",
       "      <td>NHS North East and North Cumbria ICB - 00L</td>\n",
       "      <td>E54000050</td>\n",
       "      <td>E40000012</td>\n",
       "      <td>01-Dec-21</td>\n",
       "      <td>6-10 Minutes</td>\n",
       "      <td>1698</td>\n",
       "    </tr>\n",
       "    <tr>\n",
       "      <th>3</th>\n",
       "      <td>00L</td>\n",
       "      <td>E38000130</td>\n",
       "      <td>NHS North East and North Cumbria ICB - 00L</td>\n",
       "      <td>E54000050</td>\n",
       "      <td>E40000012</td>\n",
       "      <td>01-Dec-21</td>\n",
       "      <td>Unknown / Data Quality</td>\n",
       "      <td>1277</td>\n",
       "    </tr>\n",
       "    <tr>\n",
       "      <th>4</th>\n",
       "      <td>00L</td>\n",
       "      <td>E38000130</td>\n",
       "      <td>NHS North East and North Cumbria ICB - 00L</td>\n",
       "      <td>E54000050</td>\n",
       "      <td>E40000012</td>\n",
       "      <td>01-Dec-21</td>\n",
       "      <td>16-20 Minutes</td>\n",
       "      <td>730</td>\n",
       "    </tr>\n",
       "    <tr>\n",
       "      <th>...</th>\n",
       "      <td>...</td>\n",
       "      <td>...</td>\n",
       "      <td>...</td>\n",
       "      <td>...</td>\n",
       "      <td>...</td>\n",
       "      <td>...</td>\n",
       "      <td>...</td>\n",
       "      <td>...</td>\n",
       "    </tr>\n",
       "    <tr>\n",
       "      <th>137788</th>\n",
       "      <td>X2C4Y</td>\n",
       "      <td>E38000254</td>\n",
       "      <td>NHS West Yorkshire ICB - X2C4Y</td>\n",
       "      <td>E54000054</td>\n",
       "      <td>E40000012</td>\n",
       "      <td>30-Jun-22</td>\n",
       "      <td>31-60 Minutes</td>\n",
       "      <td>430</td>\n",
       "    </tr>\n",
       "    <tr>\n",
       "      <th>137789</th>\n",
       "      <td>X2C4Y</td>\n",
       "      <td>E38000254</td>\n",
       "      <td>NHS West Yorkshire ICB - X2C4Y</td>\n",
       "      <td>E54000054</td>\n",
       "      <td>E40000012</td>\n",
       "      <td>30-Jun-22</td>\n",
       "      <td>21-30 Minutes</td>\n",
       "      <td>751</td>\n",
       "    </tr>\n",
       "    <tr>\n",
       "      <th>137790</th>\n",
       "      <td>X2C4Y</td>\n",
       "      <td>E38000254</td>\n",
       "      <td>NHS West Yorkshire ICB - X2C4Y</td>\n",
       "      <td>E54000054</td>\n",
       "      <td>E40000012</td>\n",
       "      <td>30-Jun-22</td>\n",
       "      <td>16-20 Minutes</td>\n",
       "      <td>921</td>\n",
       "    </tr>\n",
       "    <tr>\n",
       "      <th>137791</th>\n",
       "      <td>X2C4Y</td>\n",
       "      <td>E38000254</td>\n",
       "      <td>NHS West Yorkshire ICB - X2C4Y</td>\n",
       "      <td>E54000054</td>\n",
       "      <td>E40000012</td>\n",
       "      <td>30-Jun-22</td>\n",
       "      <td>11-15 Minutes</td>\n",
       "      <td>1439</td>\n",
       "    </tr>\n",
       "    <tr>\n",
       "      <th>137792</th>\n",
       "      <td>X2C4Y</td>\n",
       "      <td>E38000254</td>\n",
       "      <td>NHS West Yorkshire ICB - X2C4Y</td>\n",
       "      <td>E54000054</td>\n",
       "      <td>E40000012</td>\n",
       "      <td>30-Jun-22</td>\n",
       "      <td>1-5 Minutes</td>\n",
       "      <td>1739</td>\n",
       "    </tr>\n",
       "  </tbody>\n",
       "</table>\n",
       "<p>137793 rows × 8 columns</p>\n",
       "</div>"
      ],
      "text/plain": [
       "       sub_icb_location_code sub_icb_location_ons_code  \\\n",
       "0                        00L                 E38000130   \n",
       "1                        00L                 E38000130   \n",
       "2                        00L                 E38000130   \n",
       "3                        00L                 E38000130   \n",
       "4                        00L                 E38000130   \n",
       "...                      ...                       ...   \n",
       "137788                 X2C4Y                 E38000254   \n",
       "137789                 X2C4Y                 E38000254   \n",
       "137790                 X2C4Y                 E38000254   \n",
       "137791                 X2C4Y                 E38000254   \n",
       "137792                 X2C4Y                 E38000254   \n",
       "\n",
       "                             sub_icb_location_name icb_ons_code  \\\n",
       "0       NHS North East and North Cumbria ICB - 00L    E54000050   \n",
       "1       NHS North East and North Cumbria ICB - 00L    E54000050   \n",
       "2       NHS North East and North Cumbria ICB - 00L    E54000050   \n",
       "3       NHS North East and North Cumbria ICB - 00L    E54000050   \n",
       "4       NHS North East and North Cumbria ICB - 00L    E54000050   \n",
       "...                                            ...          ...   \n",
       "137788              NHS West Yorkshire ICB - X2C4Y    E54000054   \n",
       "137789              NHS West Yorkshire ICB - X2C4Y    E54000054   \n",
       "137790              NHS West Yorkshire ICB - X2C4Y    E54000054   \n",
       "137791              NHS West Yorkshire ICB - X2C4Y    E54000054   \n",
       "137792              NHS West Yorkshire ICB - X2C4Y    E54000054   \n",
       "\n",
       "       region_ons_code appointment_date         actual_duration  \\\n",
       "0            E40000012        01-Dec-21           31-60 Minutes   \n",
       "1            E40000012        01-Dec-21           21-30 Minutes   \n",
       "2            E40000012        01-Dec-21            6-10 Minutes   \n",
       "3            E40000012        01-Dec-21  Unknown / Data Quality   \n",
       "4            E40000012        01-Dec-21           16-20 Minutes   \n",
       "...                ...              ...                     ...   \n",
       "137788       E40000012        30-Jun-22           31-60 Minutes   \n",
       "137789       E40000012        30-Jun-22           21-30 Minutes   \n",
       "137790       E40000012        30-Jun-22           16-20 Minutes   \n",
       "137791       E40000012        30-Jun-22           11-15 Minutes   \n",
       "137792       E40000012        30-Jun-22             1-5 Minutes   \n",
       "\n",
       "        count_of_appointments  \n",
       "0                         364  \n",
       "1                         619  \n",
       "2                        1698  \n",
       "3                        1277  \n",
       "4                         730  \n",
       "...                       ...  \n",
       "137788                    430  \n",
       "137789                    751  \n",
       "137790                    921  \n",
       "137791                   1439  \n",
       "137792                   1739  \n",
       "\n",
       "[137793 rows x 8 columns]"
      ]
     },
     "execution_count": 2,
     "metadata": {},
     "output_type": "execute_result"
    }
   ],
   "source": [
    "# Load the dataset into a DataFrame\n",
    "ad = pd.read_csv(\"actual_duration.csv\")\n",
    "ad"
   ]
  },
  {
   "cell_type": "code",
   "execution_count": 3,
   "id": "b3727b03",
   "metadata": {},
   "outputs": [
    {
     "data": {
      "text/html": [
       "<div>\n",
       "<style scoped>\n",
       "    .dataframe tbody tr th:only-of-type {\n",
       "        vertical-align: middle;\n",
       "    }\n",
       "\n",
       "    .dataframe tbody tr th {\n",
       "        vertical-align: top;\n",
       "    }\n",
       "\n",
       "    .dataframe thead th {\n",
       "        text-align: right;\n",
       "    }\n",
       "</style>\n",
       "<table border=\"1\" class=\"dataframe\">\n",
       "  <thead>\n",
       "    <tr style=\"text-align: right;\">\n",
       "      <th></th>\n",
       "      <th>icb_ons_code</th>\n",
       "      <th>appointment_month</th>\n",
       "      <th>appointment_status</th>\n",
       "      <th>hcp_type</th>\n",
       "      <th>appointment_mode</th>\n",
       "      <th>time_between_book_and_appointment</th>\n",
       "      <th>count_of_appointments</th>\n",
       "    </tr>\n",
       "  </thead>\n",
       "  <tbody>\n",
       "    <tr>\n",
       "      <th>0</th>\n",
       "      <td>E54000034</td>\n",
       "      <td>2020-01</td>\n",
       "      <td>Attended</td>\n",
       "      <td>GP</td>\n",
       "      <td>Face-to-Face</td>\n",
       "      <td>1 Day</td>\n",
       "      <td>8107</td>\n",
       "    </tr>\n",
       "    <tr>\n",
       "      <th>1</th>\n",
       "      <td>E54000034</td>\n",
       "      <td>2020-01</td>\n",
       "      <td>Attended</td>\n",
       "      <td>GP</td>\n",
       "      <td>Face-to-Face</td>\n",
       "      <td>15  to 21 Days</td>\n",
       "      <td>6791</td>\n",
       "    </tr>\n",
       "    <tr>\n",
       "      <th>2</th>\n",
       "      <td>E54000034</td>\n",
       "      <td>2020-01</td>\n",
       "      <td>Attended</td>\n",
       "      <td>GP</td>\n",
       "      <td>Face-to-Face</td>\n",
       "      <td>2 to 7 Days</td>\n",
       "      <td>20686</td>\n",
       "    </tr>\n",
       "    <tr>\n",
       "      <th>3</th>\n",
       "      <td>E54000034</td>\n",
       "      <td>2020-01</td>\n",
       "      <td>Attended</td>\n",
       "      <td>GP</td>\n",
       "      <td>Face-to-Face</td>\n",
       "      <td>22  to 28 Days</td>\n",
       "      <td>4268</td>\n",
       "    </tr>\n",
       "    <tr>\n",
       "      <th>4</th>\n",
       "      <td>E54000034</td>\n",
       "      <td>2020-01</td>\n",
       "      <td>Attended</td>\n",
       "      <td>GP</td>\n",
       "      <td>Face-to-Face</td>\n",
       "      <td>8  to 14 Days</td>\n",
       "      <td>11971</td>\n",
       "    </tr>\n",
       "    <tr>\n",
       "      <th>...</th>\n",
       "      <td>...</td>\n",
       "      <td>...</td>\n",
       "      <td>...</td>\n",
       "      <td>...</td>\n",
       "      <td>...</td>\n",
       "      <td>...</td>\n",
       "      <td>...</td>\n",
       "    </tr>\n",
       "    <tr>\n",
       "      <th>596816</th>\n",
       "      <td>E54000050</td>\n",
       "      <td>2022-06</td>\n",
       "      <td>Unknown</td>\n",
       "      <td>Unknown</td>\n",
       "      <td>Unknown</td>\n",
       "      <td>2 to 7 Days</td>\n",
       "      <td>21</td>\n",
       "    </tr>\n",
       "    <tr>\n",
       "      <th>596817</th>\n",
       "      <td>E54000050</td>\n",
       "      <td>2022-06</td>\n",
       "      <td>Unknown</td>\n",
       "      <td>Unknown</td>\n",
       "      <td>Unknown</td>\n",
       "      <td>22  to 28 Days</td>\n",
       "      <td>8</td>\n",
       "    </tr>\n",
       "    <tr>\n",
       "      <th>596818</th>\n",
       "      <td>E54000050</td>\n",
       "      <td>2022-06</td>\n",
       "      <td>Unknown</td>\n",
       "      <td>Unknown</td>\n",
       "      <td>Unknown</td>\n",
       "      <td>8  to 14 Days</td>\n",
       "      <td>28</td>\n",
       "    </tr>\n",
       "    <tr>\n",
       "      <th>596819</th>\n",
       "      <td>E54000050</td>\n",
       "      <td>2022-06</td>\n",
       "      <td>Unknown</td>\n",
       "      <td>Unknown</td>\n",
       "      <td>Unknown</td>\n",
       "      <td>More than 28 Days</td>\n",
       "      <td>17</td>\n",
       "    </tr>\n",
       "    <tr>\n",
       "      <th>596820</th>\n",
       "      <td>E54000050</td>\n",
       "      <td>2022-06</td>\n",
       "      <td>Unknown</td>\n",
       "      <td>Unknown</td>\n",
       "      <td>Unknown</td>\n",
       "      <td>Same Day</td>\n",
       "      <td>10</td>\n",
       "    </tr>\n",
       "  </tbody>\n",
       "</table>\n",
       "<p>596821 rows × 7 columns</p>\n",
       "</div>"
      ],
      "text/plain": [
       "       icb_ons_code appointment_month appointment_status hcp_type  \\\n",
       "0         E54000034           2020-01           Attended       GP   \n",
       "1         E54000034           2020-01           Attended       GP   \n",
       "2         E54000034           2020-01           Attended       GP   \n",
       "3         E54000034           2020-01           Attended       GP   \n",
       "4         E54000034           2020-01           Attended       GP   \n",
       "...             ...               ...                ...      ...   \n",
       "596816    E54000050           2022-06            Unknown  Unknown   \n",
       "596817    E54000050           2022-06            Unknown  Unknown   \n",
       "596818    E54000050           2022-06            Unknown  Unknown   \n",
       "596819    E54000050           2022-06            Unknown  Unknown   \n",
       "596820    E54000050           2022-06            Unknown  Unknown   \n",
       "\n",
       "       appointment_mode time_between_book_and_appointment  \\\n",
       "0          Face-to-Face                             1 Day   \n",
       "1          Face-to-Face                    15  to 21 Days   \n",
       "2          Face-to-Face                       2 to 7 Days   \n",
       "3          Face-to-Face                    22  to 28 Days   \n",
       "4          Face-to-Face                     8  to 14 Days   \n",
       "...                 ...                               ...   \n",
       "596816          Unknown                       2 to 7 Days   \n",
       "596817          Unknown                    22  to 28 Days   \n",
       "596818          Unknown                     8  to 14 Days   \n",
       "596819          Unknown                 More than 28 Days   \n",
       "596820          Unknown                          Same Day   \n",
       "\n",
       "        count_of_appointments  \n",
       "0                        8107  \n",
       "1                        6791  \n",
       "2                       20686  \n",
       "3                        4268  \n",
       "4                       11971  \n",
       "...                       ...  \n",
       "596816                     21  \n",
       "596817                      8  \n",
       "596818                     28  \n",
       "596819                     17  \n",
       "596820                     10  \n",
       "\n",
       "[596821 rows x 7 columns]"
      ]
     },
     "execution_count": 3,
     "metadata": {},
     "output_type": "execute_result"
    }
   ],
   "source": [
    "# Load the dataset into a DataFrame\n",
    "ar = pd.read_csv(\"appointments_regional.csv\")\n",
    "ar"
   ]
  },
  {
   "cell_type": "code",
   "execution_count": 32,
   "id": "a0bcf0d3",
   "metadata": {},
   "outputs": [
    {
     "data": {
      "text/html": [
       "<div>\n",
       "<style scoped>\n",
       "    .dataframe tbody tr th:only-of-type {\n",
       "        vertical-align: middle;\n",
       "    }\n",
       "\n",
       "    .dataframe tbody tr th {\n",
       "        vertical-align: top;\n",
       "    }\n",
       "\n",
       "    .dataframe thead th {\n",
       "        text-align: right;\n",
       "    }\n",
       "</style>\n",
       "<table border=\"1\" class=\"dataframe\">\n",
       "  <thead>\n",
       "    <tr style=\"text-align: right;\">\n",
       "      <th></th>\n",
       "      <th>appointment_date</th>\n",
       "      <th>icb_ons_code</th>\n",
       "      <th>sub_icb_location_name</th>\n",
       "      <th>service_setting</th>\n",
       "      <th>context_type</th>\n",
       "      <th>national_category</th>\n",
       "      <th>count_of_appointments</th>\n",
       "      <th>appointment_month</th>\n",
       "    </tr>\n",
       "  </thead>\n",
       "  <tbody>\n",
       "    <tr>\n",
       "      <th>0</th>\n",
       "      <td>2021-08-02</td>\n",
       "      <td>E54000050</td>\n",
       "      <td>NHS North East and North Cumbria ICB - 00L</td>\n",
       "      <td>Primary Care Network</td>\n",
       "      <td>Care Related Encounter</td>\n",
       "      <td>Patient contact during Care Home Round</td>\n",
       "      <td>3</td>\n",
       "      <td>2021-08</td>\n",
       "    </tr>\n",
       "    <tr>\n",
       "      <th>1</th>\n",
       "      <td>2021-08-02</td>\n",
       "      <td>E54000050</td>\n",
       "      <td>NHS North East and North Cumbria ICB - 00L</td>\n",
       "      <td>Other</td>\n",
       "      <td>Care Related Encounter</td>\n",
       "      <td>Planned Clinics</td>\n",
       "      <td>7</td>\n",
       "      <td>2021-08</td>\n",
       "    </tr>\n",
       "    <tr>\n",
       "      <th>2</th>\n",
       "      <td>2021-08-02</td>\n",
       "      <td>E54000050</td>\n",
       "      <td>NHS North East and North Cumbria ICB - 00L</td>\n",
       "      <td>General Practice</td>\n",
       "      <td>Care Related Encounter</td>\n",
       "      <td>Home Visit</td>\n",
       "      <td>79</td>\n",
       "      <td>2021-08</td>\n",
       "    </tr>\n",
       "    <tr>\n",
       "      <th>3</th>\n",
       "      <td>2021-08-02</td>\n",
       "      <td>E54000050</td>\n",
       "      <td>NHS North East and North Cumbria ICB - 00L</td>\n",
       "      <td>General Practice</td>\n",
       "      <td>Care Related Encounter</td>\n",
       "      <td>General Consultation Acute</td>\n",
       "      <td>725</td>\n",
       "      <td>2021-08</td>\n",
       "    </tr>\n",
       "    <tr>\n",
       "      <th>4</th>\n",
       "      <td>2021-08-02</td>\n",
       "      <td>E54000050</td>\n",
       "      <td>NHS North East and North Cumbria ICB - 00L</td>\n",
       "      <td>General Practice</td>\n",
       "      <td>Care Related Encounter</td>\n",
       "      <td>Structured Medication Review</td>\n",
       "      <td>2</td>\n",
       "      <td>2021-08</td>\n",
       "    </tr>\n",
       "    <tr>\n",
       "      <th>...</th>\n",
       "      <td>...</td>\n",
       "      <td>...</td>\n",
       "      <td>...</td>\n",
       "      <td>...</td>\n",
       "      <td>...</td>\n",
       "      <td>...</td>\n",
       "      <td>...</td>\n",
       "      <td>...</td>\n",
       "    </tr>\n",
       "    <tr>\n",
       "      <th>817389</th>\n",
       "      <td>2022-06-30</td>\n",
       "      <td>E54000054</td>\n",
       "      <td>NHS West Yorkshire ICB - X2C4Y</td>\n",
       "      <td>Extended Access Provision</td>\n",
       "      <td>Care Related Encounter</td>\n",
       "      <td>Unplanned Clinical Activity</td>\n",
       "      <td>12</td>\n",
       "      <td>2022-06</td>\n",
       "    </tr>\n",
       "    <tr>\n",
       "      <th>817390</th>\n",
       "      <td>2022-06-30</td>\n",
       "      <td>E54000054</td>\n",
       "      <td>NHS West Yorkshire ICB - X2C4Y</td>\n",
       "      <td>Extended Access Provision</td>\n",
       "      <td>Care Related Encounter</td>\n",
       "      <td>Planned Clinics</td>\n",
       "      <td>4</td>\n",
       "      <td>2022-06</td>\n",
       "    </tr>\n",
       "    <tr>\n",
       "      <th>817391</th>\n",
       "      <td>2022-06-30</td>\n",
       "      <td>E54000054</td>\n",
       "      <td>NHS West Yorkshire ICB - X2C4Y</td>\n",
       "      <td>Extended Access Provision</td>\n",
       "      <td>Care Related Encounter</td>\n",
       "      <td>Planned Clinical Procedure</td>\n",
       "      <td>92</td>\n",
       "      <td>2022-06</td>\n",
       "    </tr>\n",
       "    <tr>\n",
       "      <th>817392</th>\n",
       "      <td>2022-06-30</td>\n",
       "      <td>E54000054</td>\n",
       "      <td>NHS West Yorkshire ICB - X2C4Y</td>\n",
       "      <td>Extended Access Provision</td>\n",
       "      <td>Care Related Encounter</td>\n",
       "      <td>General Consultation Routine</td>\n",
       "      <td>4</td>\n",
       "      <td>2022-06</td>\n",
       "    </tr>\n",
       "    <tr>\n",
       "      <th>817393</th>\n",
       "      <td>2022-06-30</td>\n",
       "      <td>E54000054</td>\n",
       "      <td>NHS West Yorkshire ICB - X2C4Y</td>\n",
       "      <td>Extended Access Provision</td>\n",
       "      <td>Care Related Encounter</td>\n",
       "      <td>General Consultation Acute</td>\n",
       "      <td>19</td>\n",
       "      <td>2022-06</td>\n",
       "    </tr>\n",
       "  </tbody>\n",
       "</table>\n",
       "<p>817394 rows × 8 columns</p>\n",
       "</div>"
      ],
      "text/plain": [
       "       appointment_date icb_ons_code  \\\n",
       "0            2021-08-02    E54000050   \n",
       "1            2021-08-02    E54000050   \n",
       "2            2021-08-02    E54000050   \n",
       "3            2021-08-02    E54000050   \n",
       "4            2021-08-02    E54000050   \n",
       "...                 ...          ...   \n",
       "817389       2022-06-30    E54000054   \n",
       "817390       2022-06-30    E54000054   \n",
       "817391       2022-06-30    E54000054   \n",
       "817392       2022-06-30    E54000054   \n",
       "817393       2022-06-30    E54000054   \n",
       "\n",
       "                             sub_icb_location_name            service_setting  \\\n",
       "0       NHS North East and North Cumbria ICB - 00L       Primary Care Network   \n",
       "1       NHS North East and North Cumbria ICB - 00L                      Other   \n",
       "2       NHS North East and North Cumbria ICB - 00L           General Practice   \n",
       "3       NHS North East and North Cumbria ICB - 00L           General Practice   \n",
       "4       NHS North East and North Cumbria ICB - 00L           General Practice   \n",
       "...                                            ...                        ...   \n",
       "817389              NHS West Yorkshire ICB - X2C4Y  Extended Access Provision   \n",
       "817390              NHS West Yorkshire ICB - X2C4Y  Extended Access Provision   \n",
       "817391              NHS West Yorkshire ICB - X2C4Y  Extended Access Provision   \n",
       "817392              NHS West Yorkshire ICB - X2C4Y  Extended Access Provision   \n",
       "817393              NHS West Yorkshire ICB - X2C4Y  Extended Access Provision   \n",
       "\n",
       "                  context_type                       national_category  \\\n",
       "0       Care Related Encounter  Patient contact during Care Home Round   \n",
       "1       Care Related Encounter                         Planned Clinics   \n",
       "2       Care Related Encounter                              Home Visit   \n",
       "3       Care Related Encounter              General Consultation Acute   \n",
       "4       Care Related Encounter            Structured Medication Review   \n",
       "...                        ...                                     ...   \n",
       "817389  Care Related Encounter             Unplanned Clinical Activity   \n",
       "817390  Care Related Encounter                         Planned Clinics   \n",
       "817391  Care Related Encounter              Planned Clinical Procedure   \n",
       "817392  Care Related Encounter            General Consultation Routine   \n",
       "817393  Care Related Encounter              General Consultation Acute   \n",
       "\n",
       "        count_of_appointments appointment_month  \n",
       "0                           3           2021-08  \n",
       "1                           7           2021-08  \n",
       "2                          79           2021-08  \n",
       "3                         725           2021-08  \n",
       "4                           2           2021-08  \n",
       "...                       ...               ...  \n",
       "817389                     12           2022-06  \n",
       "817390                      4           2022-06  \n",
       "817391                     92           2022-06  \n",
       "817392                      4           2022-06  \n",
       "817393                     19           2022-06  \n",
       "\n",
       "[817394 rows x 8 columns]"
      ]
     },
     "execution_count": 32,
     "metadata": {},
     "output_type": "execute_result"
    }
   ],
   "source": [
    "# Load the dataset into a DataFrame\n",
    "nc = pd.read_excel(\"national_categories.xlsx\")\n",
    "nc"
   ]
  },
  {
   "cell_type": "code",
   "execution_count": 5,
   "id": "537b4cbd",
   "metadata": {},
   "outputs": [
    {
     "data": {
      "text/plain": [
       "['sub_icb_location_code',\n",
       " 'sub_icb_location_ons_code',\n",
       " 'sub_icb_location_name',\n",
       " 'icb_ons_code',\n",
       " 'region_ons_code',\n",
       " 'appointment_date',\n",
       " 'actual_duration',\n",
       " 'count_of_appointments']"
      ]
     },
     "execution_count": 5,
     "metadata": {},
     "output_type": "execute_result"
    }
   ],
   "source": [
    "# Read CSV file from the current working directory.\n",
    "ad = pd.read_csv('actual_duration.csv')\n",
    "\n",
    "# Column names of data set.\n",
    "my_list_1 = ad.columns.values.tolist()\n",
    "\n",
    "my_list_1"
   ]
  },
  {
   "cell_type": "code",
   "execution_count": 6,
   "id": "cb971230",
   "metadata": {},
   "outputs": [
    {
     "data": {
      "text/plain": [
       "['icb_ons_code',\n",
       " 'appointment_month',\n",
       " 'appointment_status',\n",
       " 'hcp_type',\n",
       " 'appointment_mode',\n",
       " 'time_between_book_and_appointment',\n",
       " 'count_of_appointments']"
      ]
     },
     "execution_count": 6,
     "metadata": {},
     "output_type": "execute_result"
    }
   ],
   "source": [
    "# Read CSV file from the current working directory.\n",
    "ar = pd.read_csv('appointments_regional.csv')\n",
    "\n",
    "# Column names of data set.\n",
    "my_list_2 = ar.columns.values.tolist()\n",
    "\n",
    "my_list_2"
   ]
  },
  {
   "cell_type": "code",
   "execution_count": 7,
   "id": "af3f6e3b",
   "metadata": {},
   "outputs": [
    {
     "data": {
      "text/plain": [
       "['appointment_date',\n",
       " 'icb_ons_code',\n",
       " 'sub_icb_location_name',\n",
       " 'service_setting',\n",
       " 'context_type',\n",
       " 'national_category',\n",
       " 'count_of_appointments',\n",
       " 'appointment_month']"
      ]
     },
     "execution_count": 7,
     "metadata": {},
     "output_type": "execute_result"
    }
   ],
   "source": [
    "# Read CSV file from the current working directory.\n",
    "nc = pd.read_excel('national_categories.xlsx')\n",
    "\n",
    "# Column names of data set.\n",
    "my_list_3 = nc.columns.values.tolist()\n",
    "\n",
    "my_list_3"
   ]
  },
  {
   "cell_type": "code",
   "execution_count": 8,
   "id": "9dac6765",
   "metadata": {},
   "outputs": [
    {
     "name": "stdout",
     "output_type": "stream",
     "text": [
      "(137793, 8)\n",
      "(596821, 7)\n",
      "(817394, 8)\n"
     ]
    }
   ],
   "source": [
    "# Shape of data frame.\n",
    "print(ad.shape)\n",
    "\n",
    "print(ar.shape)\n",
    "\n",
    "print(nc.shape)"
   ]
  },
  {
   "cell_type": "code",
   "execution_count": 9,
   "id": "fc51d09d",
   "metadata": {},
   "outputs": [
    {
     "name": "stdout",
     "output_type": "stream",
     "text": [
      "sub_icb_location_code        object\n",
      "sub_icb_location_ons_code    object\n",
      "sub_icb_location_name        object\n",
      "icb_ons_code                 object\n",
      "region_ons_code              object\n",
      "appointment_date             object\n",
      "actual_duration              object\n",
      "count_of_appointments         int64\n",
      "dtype: object\n"
     ]
    }
   ],
   "source": [
    "# Data types of the dataset\n",
    "print(ad.dtypes)"
   ]
  },
  {
   "cell_type": "code",
   "execution_count": 10,
   "id": "f49e1cdd",
   "metadata": {},
   "outputs": [
    {
     "name": "stdout",
     "output_type": "stream",
     "text": [
      "icb_ons_code                         object\n",
      "appointment_month                    object\n",
      "appointment_status                   object\n",
      "hcp_type                             object\n",
      "appointment_mode                     object\n",
      "time_between_book_and_appointment    object\n",
      "count_of_appointments                 int64\n",
      "dtype: object\n"
     ]
    }
   ],
   "source": [
    "# Data types of the dataset\n",
    "print(ar.dtypes)"
   ]
  },
  {
   "cell_type": "code",
   "execution_count": 11,
   "id": "5df99ee7",
   "metadata": {},
   "outputs": [
    {
     "name": "stdout",
     "output_type": "stream",
     "text": [
      "appointment_date         datetime64[ns]\n",
      "icb_ons_code                     object\n",
      "sub_icb_location_name            object\n",
      "service_setting                  object\n",
      "context_type                     object\n",
      "national_category                object\n",
      "count_of_appointments             int64\n",
      "appointment_month                object\n",
      "dtype: object\n"
     ]
    }
   ],
   "source": [
    "# Data types of the dataset\n",
    "print(nc.dtypes)"
   ]
  },
  {
   "cell_type": "code",
   "execution_count": 12,
   "id": "50ba2bc3",
   "metadata": {},
   "outputs": [
    {
     "data": {
      "text/plain": [
       "[0         False\n",
       " 1         False\n",
       " 2         False\n",
       " 3         False\n",
       " 4         False\n",
       "           ...  \n",
       " 137788    False\n",
       " 137789    False\n",
       " 137790    False\n",
       " 137791    False\n",
       " 137792    False\n",
       " Length: 137793, dtype: bool]"
      ]
     },
     "execution_count": 12,
     "metadata": {},
     "output_type": "execute_result"
    }
   ],
   "source": [
    "# The number of missing values\n",
    "ad_na = [ad.isna().any(axis=1)]\n",
    "ad_na"
   ]
  },
  {
   "cell_type": "code",
   "execution_count": 13,
   "id": "2a87b735",
   "metadata": {},
   "outputs": [
    {
     "data": {
      "text/plain": [
       "[0         False\n",
       " 1         False\n",
       " 2         False\n",
       " 3         False\n",
       " 4         False\n",
       "           ...  \n",
       " 596816    False\n",
       " 596817    False\n",
       " 596818    False\n",
       " 596819    False\n",
       " 596820    False\n",
       " Length: 596821, dtype: bool]"
      ]
     },
     "execution_count": 13,
     "metadata": {},
     "output_type": "execute_result"
    }
   ],
   "source": [
    "# The number of missing values\n",
    "ar_na = [ar.isna().any(axis=1)]\n",
    "ar_na"
   ]
  },
  {
   "cell_type": "code",
   "execution_count": 14,
   "id": "6ef59416",
   "metadata": {},
   "outputs": [
    {
     "data": {
      "text/plain": [
       "[0         False\n",
       " 1         False\n",
       " 2         False\n",
       " 3         False\n",
       " 4         False\n",
       "           ...  \n",
       " 817389    False\n",
       " 817390    False\n",
       " 817391    False\n",
       " 817392    False\n",
       " 817393    False\n",
       " Length: 817394, dtype: bool]"
      ]
     },
     "execution_count": 14,
     "metadata": {},
     "output_type": "execute_result"
    }
   ],
   "source": [
    "# The number of missing values\n",
    "nc_na = [nc.isna().any(axis=1)]\n",
    "nc_na"
   ]
  },
  {
   "cell_type": "code",
   "execution_count": 15,
   "id": "c8cba5c5",
   "metadata": {},
   "outputs": [
    {
     "data": {
      "text/plain": [
       "0"
      ]
     },
     "execution_count": 15,
     "metadata": {},
     "output_type": "execute_result"
    }
   ],
   "source": [
    "# The sum of missing values of each column in a dataset\n",
    "ad['sub_icb_location_code'].isnull().sum()\n",
    "ad['sub_icb_location_ons_code'].isnull().sum()\n",
    "ad['sub_icb_location_name'].isnull().sum()\n",
    "ad['icb_ons_code'].isnull().sum()\n",
    "ad['region_ons_code'].isnull().sum()\n",
    "ad['appointment_date'].isnull().sum()\n",
    "ad['actual_duration'].isnull().sum()\n",
    "ad['count_of_appointments'].isnull().sum()"
   ]
  },
  {
   "cell_type": "code",
   "execution_count": 16,
   "id": "4d37d8b1",
   "metadata": {},
   "outputs": [
    {
     "data": {
      "text/plain": [
       "0"
      ]
     },
     "execution_count": 16,
     "metadata": {},
     "output_type": "execute_result"
    }
   ],
   "source": [
    "# The sum of missing values of each column in a dataset\n",
    "ar['icb_ons_code'].isnull().sum()\n",
    "ar['appointment_month'].isnull().sum()\n",
    "ar['appointment_status'].isnull().sum()\n",
    "ar['hcp_type'].isnull().sum()\n",
    "ar['appointment_mode'].isnull().sum()\n",
    "ar['time_between_book_and_appointment'].isnull().sum()\n",
    "ar['count_of_appointments'].isnull().sum()"
   ]
  },
  {
   "cell_type": "code",
   "execution_count": 17,
   "id": "5f759f20",
   "metadata": {},
   "outputs": [
    {
     "data": {
      "text/plain": [
       "0"
      ]
     },
     "execution_count": 17,
     "metadata": {},
     "output_type": "execute_result"
    }
   ],
   "source": [
    "# The sum of missing values of each column in a dataset\n",
    "nc['appointment_date'].isnull().sum()\n",
    "nc['icb_ons_code'].isnull().sum()\n",
    "nc['sub_icb_location_name'].isnull().sum()\n",
    "nc['service_setting'].isnull().sum()\n",
    "nc['context_type'].isnull().sum()\n",
    "nc['national_category'].isnull().sum()\n",
    "nc['count_of_appointments'].isnull().sum()\n",
    "nc['appointment_month'].isnull().sum()"
   ]
  },
  {
   "cell_type": "code",
   "execution_count": 19,
   "id": "b6904b84",
   "metadata": {},
   "outputs": [
    {
     "data": {
      "text/html": [
       "<div>\n",
       "<style scoped>\n",
       "    .dataframe tbody tr th:only-of-type {\n",
       "        vertical-align: middle;\n",
       "    }\n",
       "\n",
       "    .dataframe tbody tr th {\n",
       "        vertical-align: top;\n",
       "    }\n",
       "\n",
       "    .dataframe thead th {\n",
       "        text-align: right;\n",
       "    }\n",
       "</style>\n",
       "<table border=\"1\" class=\"dataframe\">\n",
       "  <thead>\n",
       "    <tr style=\"text-align: right;\">\n",
       "      <th></th>\n",
       "      <th>count_of_appointments</th>\n",
       "    </tr>\n",
       "  </thead>\n",
       "  <tbody>\n",
       "    <tr>\n",
       "      <th>count</th>\n",
       "      <td>137793.000000</td>\n",
       "    </tr>\n",
       "    <tr>\n",
       "      <th>mean</th>\n",
       "      <td>1219.080011</td>\n",
       "    </tr>\n",
       "    <tr>\n",
       "      <th>std</th>\n",
       "      <td>1546.902956</td>\n",
       "    </tr>\n",
       "    <tr>\n",
       "      <th>min</th>\n",
       "      <td>1.000000</td>\n",
       "    </tr>\n",
       "    <tr>\n",
       "      <th>25%</th>\n",
       "      <td>194.000000</td>\n",
       "    </tr>\n",
       "    <tr>\n",
       "      <th>50%</th>\n",
       "      <td>696.000000</td>\n",
       "    </tr>\n",
       "    <tr>\n",
       "      <th>75%</th>\n",
       "      <td>1621.000000</td>\n",
       "    </tr>\n",
       "    <tr>\n",
       "      <th>max</th>\n",
       "      <td>15400.000000</td>\n",
       "    </tr>\n",
       "  </tbody>\n",
       "</table>\n",
       "</div>"
      ],
      "text/plain": [
       "       count_of_appointments\n",
       "count          137793.000000\n",
       "mean             1219.080011\n",
       "std              1546.902956\n",
       "min                 1.000000\n",
       "25%               194.000000\n",
       "50%               696.000000\n",
       "75%              1621.000000\n",
       "max             15400.000000"
      ]
     },
     "execution_count": 19,
     "metadata": {},
     "output_type": "execute_result"
    }
   ],
   "source": [
    "# The descriptive statistics of each DataFrame\n",
    "ad.describe()"
   ]
  },
  {
   "cell_type": "code",
   "execution_count": 20,
   "id": "a4d5d4cd",
   "metadata": {},
   "outputs": [
    {
     "data": {
      "text/html": [
       "<div>\n",
       "<style scoped>\n",
       "    .dataframe tbody tr th:only-of-type {\n",
       "        vertical-align: middle;\n",
       "    }\n",
       "\n",
       "    .dataframe tbody tr th {\n",
       "        vertical-align: top;\n",
       "    }\n",
       "\n",
       "    .dataframe thead th {\n",
       "        text-align: right;\n",
       "    }\n",
       "</style>\n",
       "<table border=\"1\" class=\"dataframe\">\n",
       "  <thead>\n",
       "    <tr style=\"text-align: right;\">\n",
       "      <th></th>\n",
       "      <th>count_of_appointments</th>\n",
       "    </tr>\n",
       "  </thead>\n",
       "  <tbody>\n",
       "    <tr>\n",
       "      <th>count</th>\n",
       "      <td>596821.000000</td>\n",
       "    </tr>\n",
       "    <tr>\n",
       "      <th>mean</th>\n",
       "      <td>1244.601857</td>\n",
       "    </tr>\n",
       "    <tr>\n",
       "      <th>std</th>\n",
       "      <td>5856.887042</td>\n",
       "    </tr>\n",
       "    <tr>\n",
       "      <th>min</th>\n",
       "      <td>1.000000</td>\n",
       "    </tr>\n",
       "    <tr>\n",
       "      <th>25%</th>\n",
       "      <td>7.000000</td>\n",
       "    </tr>\n",
       "    <tr>\n",
       "      <th>50%</th>\n",
       "      <td>47.000000</td>\n",
       "    </tr>\n",
       "    <tr>\n",
       "      <th>75%</th>\n",
       "      <td>308.000000</td>\n",
       "    </tr>\n",
       "    <tr>\n",
       "      <th>max</th>\n",
       "      <td>211265.000000</td>\n",
       "    </tr>\n",
       "  </tbody>\n",
       "</table>\n",
       "</div>"
      ],
      "text/plain": [
       "       count_of_appointments\n",
       "count          596821.000000\n",
       "mean             1244.601857\n",
       "std              5856.887042\n",
       "min                 1.000000\n",
       "25%                 7.000000\n",
       "50%                47.000000\n",
       "75%               308.000000\n",
       "max            211265.000000"
      ]
     },
     "execution_count": 20,
     "metadata": {},
     "output_type": "execute_result"
    }
   ],
   "source": [
    "# The descriptive statistics of each DataFrame\n",
    "ar.describe()"
   ]
  },
  {
   "cell_type": "code",
   "execution_count": 21,
   "id": "d48a37cd",
   "metadata": {},
   "outputs": [
    {
     "data": {
      "text/html": [
       "<div>\n",
       "<style scoped>\n",
       "    .dataframe tbody tr th:only-of-type {\n",
       "        vertical-align: middle;\n",
       "    }\n",
       "\n",
       "    .dataframe tbody tr th {\n",
       "        vertical-align: top;\n",
       "    }\n",
       "\n",
       "    .dataframe thead th {\n",
       "        text-align: right;\n",
       "    }\n",
       "</style>\n",
       "<table border=\"1\" class=\"dataframe\">\n",
       "  <thead>\n",
       "    <tr style=\"text-align: right;\">\n",
       "      <th></th>\n",
       "      <th>count_of_appointments</th>\n",
       "    </tr>\n",
       "  </thead>\n",
       "  <tbody>\n",
       "    <tr>\n",
       "      <th>count</th>\n",
       "      <td>817394.000000</td>\n",
       "    </tr>\n",
       "    <tr>\n",
       "      <th>mean</th>\n",
       "      <td>362.183684</td>\n",
       "    </tr>\n",
       "    <tr>\n",
       "      <th>std</th>\n",
       "      <td>1084.576600</td>\n",
       "    </tr>\n",
       "    <tr>\n",
       "      <th>min</th>\n",
       "      <td>1.000000</td>\n",
       "    </tr>\n",
       "    <tr>\n",
       "      <th>25%</th>\n",
       "      <td>7.000000</td>\n",
       "    </tr>\n",
       "    <tr>\n",
       "      <th>50%</th>\n",
       "      <td>25.000000</td>\n",
       "    </tr>\n",
       "    <tr>\n",
       "      <th>75%</th>\n",
       "      <td>128.000000</td>\n",
       "    </tr>\n",
       "    <tr>\n",
       "      <th>max</th>\n",
       "      <td>16590.000000</td>\n",
       "    </tr>\n",
       "  </tbody>\n",
       "</table>\n",
       "</div>"
      ],
      "text/plain": [
       "       count_of_appointments\n",
       "count          817394.000000\n",
       "mean              362.183684\n",
       "std              1084.576600\n",
       "min                 1.000000\n",
       "25%                 7.000000\n",
       "50%                25.000000\n",
       "75%               128.000000\n",
       "max             16590.000000"
      ]
     },
     "execution_count": 21,
     "metadata": {},
     "output_type": "execute_result"
    }
   ],
   "source": [
    "# The descriptive statistics of each DataFrame\n",
    "nc.describe()"
   ]
  },
  {
   "cell_type": "code",
   "execution_count": 22,
   "id": "929f2b3b",
   "metadata": {},
   "outputs": [
    {
     "name": "stdout",
     "output_type": "stream",
     "text": [
      "<class 'pandas.core.frame.DataFrame'>\n",
      "RangeIndex: 137793 entries, 0 to 137792\n",
      "Data columns (total 8 columns):\n",
      " #   Column                     Non-Null Count   Dtype \n",
      "---  ------                     --------------   ----- \n",
      " 0   sub_icb_location_code      137793 non-null  object\n",
      " 1   sub_icb_location_ons_code  137793 non-null  object\n",
      " 2   sub_icb_location_name      137793 non-null  object\n",
      " 3   icb_ons_code               137793 non-null  object\n",
      " 4   region_ons_code            137793 non-null  object\n",
      " 5   appointment_date           137793 non-null  object\n",
      " 6   actual_duration            137793 non-null  object\n",
      " 7   count_of_appointments      137793 non-null  int64 \n",
      "dtypes: int64(1), object(7)\n",
      "memory usage: 8.4+ MB\n"
     ]
    }
   ],
   "source": [
    "# The metadata of each DataFrame\n",
    "ad.info()"
   ]
  },
  {
   "cell_type": "code",
   "execution_count": 23,
   "id": "768f5dff",
   "metadata": {},
   "outputs": [
    {
     "name": "stdout",
     "output_type": "stream",
     "text": [
      "<class 'pandas.core.frame.DataFrame'>\n",
      "RangeIndex: 596821 entries, 0 to 596820\n",
      "Data columns (total 7 columns):\n",
      " #   Column                             Non-Null Count   Dtype \n",
      "---  ------                             --------------   ----- \n",
      " 0   icb_ons_code                       596821 non-null  object\n",
      " 1   appointment_month                  596821 non-null  object\n",
      " 2   appointment_status                 596821 non-null  object\n",
      " 3   hcp_type                           596821 non-null  object\n",
      " 4   appointment_mode                   596821 non-null  object\n",
      " 5   time_between_book_and_appointment  596821 non-null  object\n",
      " 6   count_of_appointments              596821 non-null  int64 \n",
      "dtypes: int64(1), object(6)\n",
      "memory usage: 31.9+ MB\n"
     ]
    }
   ],
   "source": [
    "# The metadata of each DataFrame\n",
    "ar.info()"
   ]
  },
  {
   "cell_type": "code",
   "execution_count": 24,
   "id": "bc63e888",
   "metadata": {},
   "outputs": [
    {
     "name": "stdout",
     "output_type": "stream",
     "text": [
      "<class 'pandas.core.frame.DataFrame'>\n",
      "RangeIndex: 817394 entries, 0 to 817393\n",
      "Data columns (total 8 columns):\n",
      " #   Column                 Non-Null Count   Dtype         \n",
      "---  ------                 --------------   -----         \n",
      " 0   appointment_date       817394 non-null  datetime64[ns]\n",
      " 1   icb_ons_code           817394 non-null  object        \n",
      " 2   sub_icb_location_name  817394 non-null  object        \n",
      " 3   service_setting        817394 non-null  object        \n",
      " 4   context_type           817394 non-null  object        \n",
      " 5   national_category      817394 non-null  object        \n",
      " 6   count_of_appointments  817394 non-null  int64         \n",
      " 7   appointment_month      817394 non-null  object        \n",
      "dtypes: datetime64[ns](1), int64(1), object(6)\n",
      "memory usage: 49.9+ MB\n"
     ]
    }
   ],
   "source": [
    "# The metadata of each DataFrame\n",
    "nc.info()"
   ]
  },
  {
   "cell_type": "code",
   "execution_count": 28,
   "id": "e25fbe55",
   "metadata": {},
   "outputs": [
    {
     "data": {
      "text/plain": [
       "E38000239    1484\n",
       "E38000237    1484\n",
       "E38000256    1484\n",
       "E38000249    1484\n",
       "E38000217    1484\n",
       "             ... \n",
       "E38000053    1051\n",
       "E38000141    1028\n",
       "E38000176    1025\n",
       "E38000006    1022\n",
       "E38000068    1013\n",
       "Name: sub_icb_location_ons_code, Length: 106, dtype: int64"
      ]
     },
     "execution_count": 28,
     "metadata": {},
     "output_type": "execute_result"
    }
   ],
   "source": [
    "# The number of locations in a dataset\n",
    "ad['sub_icb_location_ons_code'].value_counts()"
   ]
  },
  {
   "cell_type": "code",
   "execution_count": 31,
   "id": "56b980a6",
   "metadata": {},
   "outputs": [
    {
     "data": {
      "text/plain": [
       "E54000057    54527\n",
       "E54000008    48253\n",
       "E54000050    43774\n",
       "E54000048    36360\n",
       "E54000051    31069\n",
       "E54000010    27401\n",
       "E54000054    26960\n",
       "E54000061    23466\n",
       "E54000026    22342\n",
       "E54000044    19806\n",
       "E54000053    18510\n",
       "E54000025    16809\n",
       "E54000023    16326\n",
       "E54000015    15587\n",
       "E54000042    12057\n",
       "E54000060     9608\n",
       "E54000055     8206\n",
       "E54000029     7700\n",
       "E54000032     7615\n",
       "E54000062     7561\n",
       "E54000030     7462\n",
       "E54000037     7453\n",
       "E54000031     7324\n",
       "E54000027     7299\n",
       "E54000056     7178\n",
       "E54000039     6993\n",
       "E54000052     6921\n",
       "E54000058     6875\n",
       "E54000038     6813\n",
       "E54000036     6714\n",
       "E54000043     6707\n",
       "E54000022     6582\n",
       "E54000028     6579\n",
       "E54000018     6303\n",
       "E54000013     6061\n",
       "E54000019     6013\n",
       "E54000011     5996\n",
       "E54000034     5768\n",
       "E54000059     5759\n",
       "E54000024     5467\n",
       "E54000041     5345\n",
       "E54000040     5272\n",
       "Name: icb_ons_code, dtype: int64"
      ]
     },
     "execution_count": 31,
     "metadata": {},
     "output_type": "execute_result"
    }
   ],
   "source": [
    "# The number of locations in a dataset\n",
    "ar['icb_ons_code'].value_counts()"
   ]
  },
  {
   "cell_type": "code",
   "execution_count": 33,
   "id": "f7a0c0ff",
   "metadata": {},
   "outputs": [
    {
     "data": {
      "text/plain": [
       "E54000057    59180\n",
       "E54000008    53744\n",
       "E54000050    53707\n",
       "E54000048    43381\n",
       "E54000054    42888\n",
       "E54000051    41402\n",
       "E54000010    34808\n",
       "E54000026    33309\n",
       "E54000061    27812\n",
       "E54000044    27539\n",
       "E54000015    27409\n",
       "E54000053    25835\n",
       "E54000025    25242\n",
       "E54000023    20632\n",
       "E54000042    17419\n",
       "E54000060    14473\n",
       "E54000027    13007\n",
       "E54000032    12637\n",
       "E54000037    12526\n",
       "E54000029    11837\n",
       "E54000055    11789\n",
       "E54000062    11776\n",
       "E54000022    11579\n",
       "E54000040    11545\n",
       "E54000031    10612\n",
       "E54000030    10527\n",
       "E54000041    10516\n",
       "E54000058    10473\n",
       "E54000056    10086\n",
       "E54000052     9994\n",
       "E54000018     9895\n",
       "E54000043     9864\n",
       "E54000028     9860\n",
       "E54000039     9673\n",
       "E54000024     9490\n",
       "E54000019     9348\n",
       "E54000036     9238\n",
       "E54000059     9148\n",
       "E54000034     8844\n",
       "E54000038     8219\n",
       "E54000013     8070\n",
       "E54000011     8061\n",
       "Name: icb_ons_code, dtype: int64"
      ]
     },
     "execution_count": 33,
     "metadata": {},
     "output_type": "execute_result"
    }
   ],
   "source": [
    "# The number of locations in a dataset\n",
    "nc['icb_ons_code'].value_counts()"
   ]
  },
  {
   "cell_type": "code",
   "execution_count": 57,
   "id": "5f51e61b",
   "metadata": {},
   "outputs": [
    {
     "name": "stdout",
     "output_type": "stream",
     "text": [
      "Count of locations:\n",
      "       sub_icb_location_code sub_icb_location_ons_code  \\\n",
      "125518                 A3A8R                 E38000255   \n",
      "125812                 A3A8R                 E38000255   \n",
      "125861                 A3A8R                 E38000255   \n",
      "126400                 A3A8R                 E38000255   \n",
      "125616                 A3A8R                 E38000255   \n",
      "\n",
      "                    sub_icb_location_name icb_ons_code region_ons_code  \\\n",
      "125518  NHS North East London ICB - A3A8R    E54000029       E40000003   \n",
      "125812  NHS North East London ICB - A3A8R    E54000029       E40000003   \n",
      "125861  NHS North East London ICB - A3A8R    E54000029       E40000003   \n",
      "126400  NHS North East London ICB - A3A8R    E54000029       E40000003   \n",
      "125616  NHS North East London ICB - A3A8R    E54000029       E40000003   \n",
      "\n",
      "       appointment_date         actual_duration  count_of_appointments  \n",
      "125518        17-Jan-22  Unknown / Data Quality                  15400  \n",
      "125812        28-Feb-22  Unknown / Data Quality                  15081  \n",
      "125861        07-Mar-22  Unknown / Data Quality                  14767  \n",
      "126400        23-May-22  Unknown / Data Quality                  14665  \n",
      "125616        31-Jan-22  Unknown / Data Quality                  14664  \n"
     ]
    }
   ],
   "source": [
    "# The five locations with the highest number of records\n",
    "import pandas as pd\n",
    "\n",
    "ad = pd.read_csv('actual_duration.csv')\n",
    "\n",
    "column_name = 'count_of_appointments'  \n",
    "max_values = ad.nlargest(5, column_name)\n",
    "\n",
    "print(\"Count of locations:\")\n",
    "print(max_values)"
   ]
  },
  {
   "cell_type": "code",
   "execution_count": 58,
   "id": "ec19bf7a",
   "metadata": {},
   "outputs": [
    {
     "name": "stdout",
     "output_type": "stream",
     "text": [
      "Count of locations:\n",
      "       icb_ons_code appointment_month appointment_status hcp_type  \\\n",
      "144544    E54000027           2020-01           Attended       GP   \n",
      "409005    E54000029           2020-01           Attended       GP   \n",
      "145905    E54000027           2020-06           Attended       GP   \n",
      "410298    E54000029           2020-06           Attended       GP   \n",
      "144828    E54000027           2020-02           Attended       GP   \n",
      "\n",
      "       appointment_mode time_between_book_and_appointment  \\\n",
      "144544     Face-to-Face                          Same Day   \n",
      "409005     Face-to-Face                          Same Day   \n",
      "145905        Telephone                          Same Day   \n",
      "410298        Telephone                          Same Day   \n",
      "144828     Face-to-Face                          Same Day   \n",
      "\n",
      "        count_of_appointments  \n",
      "144544                 211265  \n",
      "409005                 203378  \n",
      "145905                 191019  \n",
      "410298                 186344  \n",
      "144828                 185930  \n"
     ]
    }
   ],
   "source": [
    "# The five locations with the highest number of records\n",
    "import pandas as pd\n",
    "\n",
    "ar = pd.read_csv('appointments_regional.csv')\n",
    "\n",
    "column_name = 'count_of_appointments'  \n",
    "max_values = ar.nlargest(5, column_name)\n",
    "\n",
    "print(\"Count of locations:\")\n",
    "print(max_values)"
   ]
  },
  {
   "cell_type": "code",
   "execution_count": 59,
   "id": "7ef7e6c1",
   "metadata": {},
   "outputs": [
    {
     "name": "stdout",
     "output_type": "stream",
     "text": [
      "Count of locations:\n",
      "       appointment_date icb_ons_code              sub_icb_location_name  \\\n",
      "732144       2022-05-09    E54000029  NHS North East London ICB - A3A8R   \n",
      "732705       2022-05-23    E54000029  NHS North East London ICB - A3A8R   \n",
      "724735       2021-10-11    E54000029  NHS North East London ICB - A3A8R   \n",
      "724978       2021-10-18    E54000029  NHS North East London ICB - A3A8R   \n",
      "732446       2022-05-16    E54000029  NHS North East London ICB - A3A8R   \n",
      "\n",
      "         service_setting            context_type  \\\n",
      "732144  General Practice  Care Related Encounter   \n",
      "732705  General Practice  Care Related Encounter   \n",
      "724735  General Practice  Care Related Encounter   \n",
      "724978  General Practice  Care Related Encounter   \n",
      "732446  General Practice  Care Related Encounter   \n",
      "\n",
      "                   national_category  count_of_appointments appointment_month  \n",
      "732144  General Consultation Routine                  16590           2022-05  \n",
      "732705  General Consultation Routine                  16527           2022-05  \n",
      "724735  General Consultation Routine                  16495           2021-10  \n",
      "724978  General Consultation Routine                  16492           2021-10  \n",
      "732446  General Consultation Routine                  16412           2022-05  \n"
     ]
    }
   ],
   "source": [
    "# The five locations with the highest number of records\n",
    "import pandas as pd\n",
    "\n",
    "nc = pd.read_excel('national_categories.xlsx')\n",
    "\n",
    "column_name = 'count_of_appointments'  \n",
    "max_values = nc.nlargest(5, column_name)\n",
    "\n",
    "print(\"Count of locations:\")\n",
    "print(max_values)"
   ]
  },
  {
   "cell_type": "code",
   "execution_count": 62,
   "id": "0ae81363",
   "metadata": {},
   "outputs": [
    {
     "data": {
      "text/plain": [
       "General Practice             359274\n",
       "Primary Care Network         183790\n",
       "Other                        138789\n",
       "Extended Access Provision    108122\n",
       "Unmapped                      27419\n",
       "Name: service_setting, dtype: int64"
      ]
     },
     "execution_count": 62,
     "metadata": {},
     "output_type": "execute_result"
    }
   ],
   "source": [
    "# The number of service settings in national category\n",
    "import pandas as pd\n",
    "\n",
    "# Load the dataset into a DataFrame\n",
    "nc = pd.read_excel('national_categories.xlsx')\n",
    "\n",
    "# The number of locations in a dataset\n",
    "nc['service_setting'].value_counts()"
   ]
  },
  {
   "cell_type": "code",
   "execution_count": 63,
   "id": "5265aa32",
   "metadata": {},
   "outputs": [
    {
     "data": {
      "text/plain": [
       "Care Related Encounter    700481\n",
       "Inconsistent Mapping       89494\n",
       "Unmapped                   27419\n",
       "Name: context_type, dtype: int64"
      ]
     },
     "execution_count": 63,
     "metadata": {},
     "output_type": "execute_result"
    }
   ],
   "source": [
    "# The number of context type in national category\n",
    "import pandas as pd\n",
    "\n",
    "# Load the dataset into a DataFrame\n",
    "nc = pd.read_excel('national_categories.xlsx')\n",
    "\n",
    "# The number of locations in a dataset\n",
    "nc['context_type'].value_counts()"
   ]
  },
  {
   "cell_type": "code",
   "execution_count": 64,
   "id": "ba0dc3b1",
   "metadata": {},
   "outputs": [
    {
     "data": {
      "text/plain": [
       "Inconsistent Mapping                                                   89494\n",
       "General Consultation Routine                                           89329\n",
       "General Consultation Acute                                             84874\n",
       "Planned Clinics                                                        76429\n",
       "Clinical Triage                                                        74539\n",
       "Planned Clinical Procedure                                             59631\n",
       "Structured Medication Review                                           44467\n",
       "Service provided by organisation external to the practice              43095\n",
       "Home Visit                                                             41850\n",
       "Unplanned Clinical Activity                                            40415\n",
       "Patient contact during Care Home Round                                 28795\n",
       "Unmapped                                                               27419\n",
       "Care Home Visit                                                        26644\n",
       "Social Prescribing Service                                             26492\n",
       "Care Home Needs Assessment & Personalised Care and Support Planning    23505\n",
       "Non-contractual chargeable work                                        20896\n",
       "Walk-in                                                                14179\n",
       "Group Consultation and Group Education                                  5341\n",
       "Name: national_category, dtype: int64"
      ]
     },
     "execution_count": 64,
     "metadata": {},
     "output_type": "execute_result"
    }
   ],
   "source": [
    "# The number of national category in national category\n",
    "import pandas as pd\n",
    "\n",
    "# Load the dataset into a DataFrame\n",
    "nc = pd.read_excel('national_categories.xlsx')\n",
    "\n",
    "# The number of locations in a dataset\n",
    "nc['national_category'].value_counts()"
   ]
  },
  {
   "cell_type": "code",
   "execution_count": 65,
   "id": "90db47a3",
   "metadata": {},
   "outputs": [
    {
     "data": {
      "text/plain": [
       "1        53655\n",
       "2        40085\n",
       "3        31289\n",
       "4        27644\n",
       "5        23358\n",
       "         ...  \n",
       "11575        1\n",
       "12715        1\n",
       "12875        1\n",
       "12692        1\n",
       "13932        1\n",
       "Name: count_of_appointments, Length: 9957, dtype: int64"
      ]
     },
     "execution_count": 65,
     "metadata": {},
     "output_type": "execute_result"
    }
   ],
   "source": [
    "# The number of appointment statuses in national category\n",
    "import pandas as pd\n",
    "\n",
    "# Load the dataset into a DataFrame\n",
    "nc = pd.read_excel('national_categories.xlsx')\n",
    "\n",
    "# The number of locations in a dataset\n",
    "nc['count_of_appointments'].value_counts()"
   ]
  },
  {
   "cell_type": "code",
   "execution_count": null,
   "id": "844999ee",
   "metadata": {},
   "outputs": [],
   "source": []
  }
 ],
 "metadata": {
  "kernelspec": {
   "display_name": "Python 3 (ipykernel)",
   "language": "python",
   "name": "python3"
  },
  "language_info": {
   "codemirror_mode": {
    "name": "ipython",
    "version": 3
   },
   "file_extension": ".py",
   "mimetype": "text/x-python",
   "name": "python",
   "nbconvert_exporter": "python",
   "pygments_lexer": "ipython3",
   "version": "3.9.13"
  }
 },
 "nbformat": 4,
 "nbformat_minor": 5
}
